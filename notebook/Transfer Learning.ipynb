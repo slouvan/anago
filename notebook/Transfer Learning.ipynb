{
 "cells": [
  {
   "cell_type": "code",
   "execution_count": 31,
   "metadata": {},
   "outputs": [
    {
     "name": "stdout",
     "output_type": "stream",
     "text": [
      "The autoreload extension is already loaded. To reload it, use:\n",
      "  %reload_ext autoreload\n"
     ]
    }
   ],
   "source": [
    "import os\n",
    "import sys\n",
    "module_path = os.path.abspath(os.path.join('..'))\n",
    "if module_path not in sys.path:\n",
    "    sys.path.append(module_path)\n",
    "\n",
    "%load_ext autoreload\n",
    "%autoreload 2\n",
    "%reload_ext autoreload\n",
    "\n",
    "TRAINING_DATA_PATH=\"/Users/slouvan/sandbox/cross-domain/data/atis-2.train.conll\"\n",
    "DEV_DATA_PATH=\"/Users/slouvan/sandbox/cross-domain/data/atis-2.dev.conll\"\n",
    "TEST_DATA_PATH=\"/Users/slouvan/sandbox/cross-domain/data/atis.test.iob.conll\""
   ]
  },
  {
   "cell_type": "code",
   "execution_count": 32,
   "metadata": {},
   "outputs": [],
   "source": [
    "import anago.utils\n",
    "import anago\n",
    "from anago.reader import load_data_and_labels"
   ]
  },
  {
   "cell_type": "code",
   "execution_count": 92,
   "metadata": {},
   "outputs": [
    {
     "name": "stdout",
     "output_type": "stream",
     "text": [
      "PREPROCESSOR FILE : /Users/slouvan/sandbox/cross-domain/models/anago/CONLL_2003_BASE_MODEL_RANDOM/preprocessor.pkl\n",
      "Aloha\n",
      "None\n",
      "THE VOCABULARY SIZE 1 IS 17495\n",
      "Hello\n",
      "Loading the best model from /Users/slouvan/sandbox/cross-domain/models/anago/CONLL_2003_BASE_MODEL_RANDOM/model_weights_11_88.15.h5 \n",
      "<class 'keras.engine.training.Model'>\n"
     ]
    }
   ],
   "source": [
    "model = anago.Sequence()\n",
    "model = model.load_best_model(None,\"/Users/slouvan/sandbox/cross-domain/models/anago/CONLL_2003_BASE_MODEL_RANDOM\")\n",
    "x_train , y_train = load_data_and_labels(TRAINING_DATA_PATH)\n",
    "x_valid   , y_valid   = load_data_and_labels(DEV_DATA_PATH)\n",
    "x_test  , y_test  = load_data_and_labels(TEST_DATA_PATH)\n",
    "\n",
    "print(type(model.model.model))"
   ]
  },
  {
   "cell_type": "code",
   "execution_count": 93,
   "metadata": {},
   "outputs": [
    {
     "name": "stdout",
     "output_type": "stream",
     "text": [
      "{'optimizer': 'adam', 'max_epoch': 1, 'clip_gradients': 5.0, 'batch_size': 20, 'lr_decay': 0.9, 'patience': 3, 'max_checkpoints_to_keep': 5, 'learning_rate': 0.001, 'early_stopping': 1, 'train_embeddings': 1}\n",
      "Number of labels : 122\n",
      "<class 'anago.models.SeqLabeling'>\n",
      "Chopping off the top one\n",
      "__________________________________________________________________________________________________\n",
      "Layer (type)                    Output Shape         Param #     Connected to                     \n",
      "==================================================================================================\n",
      "input_33 (InputLayer)           (None, None, None)   0                                            \n",
      "__________________________________________________________________________________________________\n",
      "embedding_33 (Embedding)        (None, None, None, 2 1275        input_33[0][0]                   \n",
      "__________________________________________________________________________________________________\n",
      "lambda_31 (Lambda)              (None, None, 25)     0           embedding_33[0][0]               \n",
      "__________________________________________________________________________________________________\n",
      "lstm_46 (LSTM)                  [(None, 25), (None,  5100        lambda_31[0][0]                  \n",
      "__________________________________________________________________________________________________\n",
      "lstm_47 (LSTM)                  [(None, 25), (None,  5100        lambda_31[0][0]                  \n",
      "__________________________________________________________________________________________________\n",
      "input_32 (InputLayer)           (None, None)         0                                            \n",
      "__________________________________________________________________________________________________\n",
      "concatenate_31 (Concatenate)    (None, 50)           0           lstm_46[0][1]                    \n",
      "                                                                 lstm_47[0][1]                    \n",
      "__________________________________________________________________________________________________\n",
      "embedding_32 (Embedding)        (None, None, 100)    1749500     input_32[0][0]                   \n",
      "__________________________________________________________________________________________________\n",
      "lambda_32 (Lambda)              (None, None, 50)     0           concatenate_31[0][0]             \n",
      "__________________________________________________________________________________________________\n",
      "concatenate_32 (Concatenate)    (None, None, 150)    0           embedding_32[0][0]               \n",
      "                                                                 lambda_32[0][0]                  \n",
      "__________________________________________________________________________________________________\n",
      "dropout_16 (Dropout)            (None, None, 150)    0           concatenate_32[0][0]             \n",
      "__________________________________________________________________________________________________\n",
      "bidirectional_16 (Bidirectional (None, None, 200)    200800      dropout_16[0][0]                 \n",
      "__________________________________________________________________________________________________\n",
      "dense_94 (Dense)                (None, None, 100)    20100       bidirectional_16[0][0]           \n",
      "__________________________________________________________________________________________________\n",
      "dense_95 (Dense)                (None, None, 11)     1111        dense_94[0][0]                   \n",
      "==================================================================================================\n",
      "Total params: 1,982,986\n",
      "Trainable params: 1,982,986\n",
      "Non-trainable params: 0\n",
      "__________________________________________________________________________________________________\n",
      "None\n",
      "Modifying the top one\n",
      "122\n",
      "__________________________________________________________________________________________________\n",
      "Layer (type)                    Output Shape         Param #     Connected to                     \n",
      "==================================================================================================\n",
      "input_33 (InputLayer)           (None, None, None)   0                                            \n",
      "__________________________________________________________________________________________________\n",
      "embedding_33 (Embedding)        (None, None, None, 2 1275        input_33[0][0]                   \n",
      "__________________________________________________________________________________________________\n",
      "lambda_31 (Lambda)              (None, None, 25)     0           embedding_33[0][0]               \n",
      "__________________________________________________________________________________________________\n",
      "lstm_46 (LSTM)                  [(None, 25), (None,  5100        lambda_31[0][0]                  \n",
      "__________________________________________________________________________________________________\n",
      "lstm_47 (LSTM)                  [(None, 25), (None,  5100        lambda_31[0][0]                  \n",
      "__________________________________________________________________________________________________\n",
      "input_32 (InputLayer)           (None, None)         0                                            \n",
      "__________________________________________________________________________________________________\n",
      "concatenate_31 (Concatenate)    (None, 50)           0           lstm_46[0][1]                    \n",
      "                                                                 lstm_47[0][1]                    \n",
      "__________________________________________________________________________________________________\n",
      "embedding_32 (Embedding)        (None, None, 100)    1749500     input_32[0][0]                   \n",
      "__________________________________________________________________________________________________\n",
      "lambda_32 (Lambda)              (None, None, 50)     0           concatenate_31[0][0]             \n",
      "__________________________________________________________________________________________________\n",
      "concatenate_32 (Concatenate)    (None, None, 150)    0           embedding_32[0][0]               \n",
      "                                                                 lambda_32[0][0]                  \n",
      "__________________________________________________________________________________________________\n",
      "dropout_16 (Dropout)            (None, None, 150)    0           concatenate_32[0][0]             \n",
      "__________________________________________________________________________________________________\n",
      "bidirectional_16 (Bidirectional (None, None, 200)    200800      dropout_16[0][0]                 \n",
      "__________________________________________________________________________________________________\n",
      "dense_94 (Dense)                (None, None, 100)    20100       bidirectional_16[0][0]           \n",
      "__________________________________________________________________________________________________\n",
      "dense_95 (Dense)                (None, None, 11)     1111        dense_94[0][0]                   \n",
      "__________________________________________________________________________________________________\n",
      "dense_96 (Dense)                (None, None, 100)    1200        dense_95[0][0]                   \n",
      "__________________________________________________________________________________________________\n",
      "dense_97 (Dense)                (None, None, 122)    12322       dense_96[0][0]                   \n",
      "__________________________________________________________________________________________________\n",
      "crf_47 (CRF)                    (None, None, 122)    30134       dense_97[0][0]                   \n",
      "==================================================================================================\n",
      "Total params: 2,026,642\n",
      "Trainable params: 2,026,642\n",
      "Non-trainable params: 0\n",
      "__________________________________________________________________________________________________\n",
      "None\n",
      "__________________________________________________________________________________________________\n",
      "Layer (type)                    Output Shape         Param #     Connected to                     \n",
      "==================================================================================================\n",
      "input_33 (InputLayer)           (None, None, None)   0                                            \n",
      "__________________________________________________________________________________________________\n",
      "embedding_33 (Embedding)        (None, None, None, 2 1275        input_33[0][0]                   \n",
      "__________________________________________________________________________________________________\n",
      "lambda_31 (Lambda)              (None, None, 25)     0           embedding_33[0][0]               \n",
      "__________________________________________________________________________________________________\n",
      "lstm_46 (LSTM)                  [(None, 25), (None,  5100        lambda_31[0][0]                  \n",
      "__________________________________________________________________________________________________\n",
      "lstm_47 (LSTM)                  [(None, 25), (None,  5100        lambda_31[0][0]                  \n",
      "__________________________________________________________________________________________________\n",
      "input_32 (InputLayer)           (None, None)         0                                            \n",
      "__________________________________________________________________________________________________\n",
      "concatenate_31 (Concatenate)    (None, 50)           0           lstm_46[0][1]                    \n",
      "                                                                 lstm_47[0][1]                    \n",
      "__________________________________________________________________________________________________\n",
      "embedding_32 (Embedding)        (None, None, 100)    1749500     input_32[0][0]                   \n",
      "__________________________________________________________________________________________________\n",
      "lambda_32 (Lambda)              (None, None, 50)     0           concatenate_31[0][0]             \n",
      "__________________________________________________________________________________________________\n",
      "concatenate_32 (Concatenate)    (None, None, 150)    0           embedding_32[0][0]               \n",
      "                                                                 lambda_32[0][0]                  \n",
      "__________________________________________________________________________________________________\n",
      "dropout_16 (Dropout)            (None, None, 150)    0           concatenate_32[0][0]             \n",
      "__________________________________________________________________________________________________\n",
      "bidirectional_16 (Bidirectional (None, None, 200)    200800      dropout_16[0][0]                 \n",
      "__________________________________________________________________________________________________\n",
      "dense_94 (Dense)                (None, None, 100)    20100       bidirectional_16[0][0]           \n",
      "__________________________________________________________________________________________________\n",
      "dense_95 (Dense)                (None, None, 11)     1111        dense_94[0][0]                   \n",
      "__________________________________________________________________________________________________\n",
      "dense_96 (Dense)                (None, None, 100)    1200        dense_95[0][0]                   \n",
      "__________________________________________________________________________________________________\n",
      "dense_97 (Dense)                (None, None, 122)    12322       dense_96[0][0]                   \n",
      "__________________________________________________________________________________________________\n",
      "crf_47 (CRF)                    (None, None, 122)    30134       dense_97[0][0]                   \n",
      "==================================================================================================\n",
      "Total params: 2,026,642\n",
      "Trainable params: 2,026,642\n",
      "Non-trainable params: 0\n",
      "__________________________________________________________________________________________________\n",
      "None\n",
      "LOG DIR : /Users/slouvan/sandbox/cross-domain/models/anago/ATIS_TRANSFER_LEARNING_RANDOM_TRASH\n",
      "METRICS : ['loss']\n",
      "Checkpoint : /Users/slouvan/sandbox/cross-domain/models/anago/ATIS_TRANSFER_LEARNING_RANDOM_TRASH\n",
      "Callback log dir /Users/slouvan/sandbox/cross-domain/models/anago/ATIS_TRANSFER_LEARNING_RANDOM_TRASH\n",
      "F1score is constructed\n",
      "Callback :  [<keras.callbacks.TensorBoard object at 0x18733084d0>, <anago.metrics.F1score object at 0x18732adc50>, <keras.callbacks.ModelCheckpoint object at 0x18732add90>, <keras.callbacks.EarlyStopping object at 0x18732adc90>]\n"
     ]
    },
    {
     "name": "stdout",
     "output_type": "stream",
     "text": [
      "Epoch 1/1\n",
      "223/224 [============================>.] - ETA: 0s - loss: 5.2770Evaluating\n",
      "Evaluating F1 score of 500 number of predictions \n",
      "foundPredCnt : 1698   correctChunkCnt : 1278   foundCorrect : 1710\n",
      " Evaluation - f1: 75.00\n",
      "224/224 [==============================] - 78s 348ms/step - loss: 5.2738\n",
      "{}\n",
      "['loss', 'f1']\n"
     ]
    }
   ],
   "source": [
    "model.update_training_config(\"/Users/slouvan/sandbox/anago/config/atis_transfer_learning_tryout.config\")\n",
    "model.re_train(x_train, y_train, x_valid, y_valid)"
   ]
  },
  {
   "cell_type": "code",
   "execution_count": 90,
   "metadata": {},
   "outputs": [
    {
     "name": "stdout",
     "output_type": "stream",
     "text": [
      "<class 'anago.models.SeqLabeling'>\n",
      "__________________________________________________________________________________________________\n",
      "Layer (type)                    Output Shape         Param #     Connected to                     \n",
      "==================================================================================================\n",
      "input_26 (InputLayer)           (None, None, None)   0                                            \n",
      "__________________________________________________________________________________________________\n",
      "embedding_26 (Embedding)        (None, None, None, 2 1275        input_26[0][0]                   \n",
      "__________________________________________________________________________________________________\n",
      "lambda_25 (Lambda)              (None, None, 25)     0           embedding_26[0][0]               \n",
      "__________________________________________________________________________________________________\n",
      "lstm_37 (LSTM)                  [(None, 25), (None,  5100        lambda_25[0][0]                  \n",
      "__________________________________________________________________________________________________\n",
      "lstm_38 (LSTM)                  [(None, 25), (None,  5100        lambda_25[0][0]                  \n",
      "__________________________________________________________________________________________________\n",
      "input_25 (InputLayer)           (None, None)         0                                            \n",
      "__________________________________________________________________________________________________\n",
      "concatenate_25 (Concatenate)    (None, 50)           0           lstm_37[0][1]                    \n",
      "                                                                 lstm_38[0][1]                    \n",
      "__________________________________________________________________________________________________\n",
      "embedding_25 (Embedding)        (None, None, 100)    1749500     input_25[0][0]                   \n",
      "__________________________________________________________________________________________________\n",
      "lambda_26 (Lambda)              (None, None, 50)     0           concatenate_25[0][0]             \n",
      "__________________________________________________________________________________________________\n",
      "concatenate_26 (Concatenate)    (None, None, 150)    0           embedding_25[0][0]               \n",
      "                                                                 lambda_26[0][0]                  \n",
      "__________________________________________________________________________________________________\n",
      "dropout_13 (Dropout)            (None, None, 150)    0           concatenate_26[0][0]             \n",
      "__________________________________________________________________________________________________\n",
      "bidirectional_13 (Bidirectional (None, None, 200)    200800      dropout_13[0][0]                 \n",
      "__________________________________________________________________________________________________\n",
      "dense_81 (Dense)                (None, None, 100)    20100       bidirectional_13[0][0]           \n",
      "__________________________________________________________________________________________________\n",
      "dense_82 (Dense)                (None, None, 11)     1111        dense_81[0][0]                   \n",
      "__________________________________________________________________________________________________\n",
      "dense_85 (Dense)                (None, None, 100)    1200        dense_82[0][0]                   \n",
      "__________________________________________________________________________________________________\n",
      "dense_86 (Dense)                (None, None, 122)    12322       dense_85[0][0]                   \n",
      "__________________________________________________________________________________________________\n",
      "dense_87 (Dense)                (None, None, 100)    12300       dense_86[0][0]                   \n",
      "__________________________________________________________________________________________________\n",
      "dense_88 (Dense)                (None, None, 122)    12322       dense_87[0][0]                   \n",
      "__________________________________________________________________________________________________\n",
      "crf_43 (CRF)                    (None, None, 122)    30134       dense_88[0][0]                   \n",
      "==================================================================================================\n",
      "Total params: 2,051,264\n",
      "Trainable params: 2,051,264\n",
      "Non-trainable params: 0\n",
      "__________________________________________________________________________________________________\n",
      "PREPROCESSOR FILE : /Users/slouvan/sandbox/cross-domain/models/anago/ATIS_TRANSFER_LEARNING_RANDOM_TRASH/preprocessor.pkl\n",
      "Aloha\n",
      "<anago.models.SeqLabeling object at 0x187c9d4ed0>\n",
      "Hello\n",
      "Loading the best model from /Users/slouvan/sandbox/cross-domain/models/anago/ATIS_TRANSFER_LEARNING_RANDOM_TRASH/model_weights_01_72.97.h5 \n"
     ]
    },
    {
     "ename": "ValueError",
     "evalue": "You are trying to load a weight file containing 10 layers into a model with 12 layers.",
     "output_type": "error",
     "traceback": [
      "\u001b[0;31m---------------------------------------------------------------------------\u001b[0m",
      "\u001b[0;31mValueError\u001b[0m                                Traceback (most recent call last)",
      "\u001b[0;32m<ipython-input-90-ef9c0b5be1cd>\u001b[0m in \u001b[0;36m<module>\u001b[0;34m()\u001b[0m\n\u001b[1;32m      2\u001b[0m \u001b[0mmodel\u001b[0m\u001b[0;34m.\u001b[0m\u001b[0mmodel\u001b[0m\u001b[0;34m.\u001b[0m\u001b[0mmodel\u001b[0m\u001b[0;34m.\u001b[0m\u001b[0msummary\u001b[0m\u001b[0;34m(\u001b[0m\u001b[0;34m)\u001b[0m\u001b[0;34m\u001b[0m\u001b[0m\n\u001b[1;32m      3\u001b[0m \u001b[0;34m\u001b[0m\u001b[0m\n\u001b[0;32m----> 4\u001b[0;31m \u001b[0mbest_model\u001b[0m \u001b[0;34m=\u001b[0m \u001b[0mmodel\u001b[0m\u001b[0;34m.\u001b[0m\u001b[0mload_best_model\u001b[0m\u001b[0;34m(\u001b[0m\u001b[0mmodel\u001b[0m\u001b[0;34m.\u001b[0m\u001b[0mmodel\u001b[0m\u001b[0;34m,\u001b[0m\u001b[0;34m\"/Users/slouvan/sandbox/cross-domain/models/anago/ATIS_TRANSFER_LEARNING_RANDOM_TRASH\"\u001b[0m\u001b[0;34m)\u001b[0m\u001b[0;34m\u001b[0m\u001b[0m\n\u001b[0m",
      "\u001b[0;32m/Users/slouvan/sandbox/anago/anago/wrapper.pyc\u001b[0m in \u001b[0;36mload_best_model\u001b[0;34m(cls, model, dir_path)\u001b[0m\n\u001b[1;32m    182\u001b[0m         \u001b[0;31m#self.model.modify_model_for_transfer_learning_v2()\u001b[0m\u001b[0;34m\u001b[0m\u001b[0;34m\u001b[0m\u001b[0m\n\u001b[1;32m    183\u001b[0m         \u001b[0mbest_model_file_name\u001b[0m \u001b[0;34m=\u001b[0m \u001b[0mutils\u001b[0m\u001b[0;34m.\u001b[0m\u001b[0mget_best_model_file\u001b[0m\u001b[0;34m(\u001b[0m\u001b[0mdir_path\u001b[0m\u001b[0;34m)\u001b[0m\u001b[0;34m\u001b[0m\u001b[0m\n\u001b[0;32m--> 184\u001b[0;31m         \u001b[0mself\u001b[0m\u001b[0;34m.\u001b[0m\u001b[0mmodel\u001b[0m\u001b[0;34m.\u001b[0m\u001b[0mload\u001b[0m\u001b[0;34m(\u001b[0m\u001b[0mfilepath\u001b[0m\u001b[0;34m=\u001b[0m\u001b[0mos\u001b[0m\u001b[0;34m.\u001b[0m\u001b[0mpath\u001b[0m\u001b[0;34m.\u001b[0m\u001b[0mjoin\u001b[0m\u001b[0;34m(\u001b[0m\u001b[0mdir_path\u001b[0m\u001b[0;34m,\u001b[0m \u001b[0mbest_model_file_name\u001b[0m\u001b[0;34m)\u001b[0m\u001b[0;34m)\u001b[0m\u001b[0;34m\u001b[0m\u001b[0m\n\u001b[0m\u001b[1;32m    185\u001b[0m \u001b[0;34m\u001b[0m\u001b[0m\n\u001b[1;32m    186\u001b[0m         \u001b[0;32mreturn\u001b[0m \u001b[0mself\u001b[0m\u001b[0;34m\u001b[0m\u001b[0m\n",
      "\u001b[0;32m/Users/slouvan/sandbox/anago/anago/models.pyc\u001b[0m in \u001b[0;36mload\u001b[0;34m(self, filepath)\u001b[0m\n\u001b[1;32m     41\u001b[0m \u001b[0;34m\u001b[0m\u001b[0m\n\u001b[1;32m     42\u001b[0m     \u001b[0;32mdef\u001b[0m \u001b[0mload\u001b[0m\u001b[0;34m(\u001b[0m\u001b[0mself\u001b[0m\u001b[0;34m,\u001b[0m \u001b[0mfilepath\u001b[0m\u001b[0;34m)\u001b[0m\u001b[0;34m:\u001b[0m\u001b[0;34m\u001b[0m\u001b[0m\n\u001b[0;32m---> 43\u001b[0;31m         \u001b[0mself\u001b[0m\u001b[0;34m.\u001b[0m\u001b[0mmodel\u001b[0m\u001b[0;34m.\u001b[0m\u001b[0mload_weights\u001b[0m\u001b[0;34m(\u001b[0m\u001b[0mfilepath\u001b[0m\u001b[0;34m=\u001b[0m\u001b[0mfilepath\u001b[0m\u001b[0;34m)\u001b[0m\u001b[0;34m\u001b[0m\u001b[0m\n\u001b[0m\u001b[1;32m     44\u001b[0m \u001b[0;34m\u001b[0m\u001b[0m\n\u001b[1;32m     45\u001b[0m     \u001b[0;32mdef\u001b[0m \u001b[0m__getattr__\u001b[0m\u001b[0;34m(\u001b[0m\u001b[0mself\u001b[0m\u001b[0;34m,\u001b[0m \u001b[0mname\u001b[0m\u001b[0;34m)\u001b[0m\u001b[0;34m:\u001b[0m\u001b[0;34m\u001b[0m\u001b[0m\n",
      "\u001b[0;32m/Users/slouvan/anaconda3/envs/anago36/lib/python2.7/site-packages/keras/engine/topology.pyc\u001b[0m in \u001b[0;36mload_weights\u001b[0;34m(self, filepath, by_name, skip_mismatch)\u001b[0m\n\u001b[1;32m   2643\u001b[0m                 f, self.layers, skip_mismatch=skip_mismatch)\n\u001b[1;32m   2644\u001b[0m         \u001b[0;32melse\u001b[0m\u001b[0;34m:\u001b[0m\u001b[0;34m\u001b[0m\u001b[0m\n\u001b[0;32m-> 2645\u001b[0;31m             \u001b[0mload_weights_from_hdf5_group\u001b[0m\u001b[0;34m(\u001b[0m\u001b[0mf\u001b[0m\u001b[0;34m,\u001b[0m \u001b[0mself\u001b[0m\u001b[0;34m.\u001b[0m\u001b[0mlayers\u001b[0m\u001b[0;34m)\u001b[0m\u001b[0;34m\u001b[0m\u001b[0m\n\u001b[0m\u001b[1;32m   2646\u001b[0m \u001b[0;34m\u001b[0m\u001b[0m\n\u001b[1;32m   2647\u001b[0m         \u001b[0;32mif\u001b[0m \u001b[0mhasattr\u001b[0m\u001b[0;34m(\u001b[0m\u001b[0mf\u001b[0m\u001b[0;34m,\u001b[0m \u001b[0;34m'close'\u001b[0m\u001b[0;34m)\u001b[0m\u001b[0;34m:\u001b[0m\u001b[0;34m\u001b[0m\u001b[0m\n",
      "\u001b[0;32m/Users/slouvan/anaconda3/envs/anago36/lib/python2.7/site-packages/keras/engine/topology.pyc\u001b[0m in \u001b[0;36mload_weights_from_hdf5_group\u001b[0;34m(f, layers)\u001b[0m\n\u001b[1;32m   3137\u001b[0m                          \u001b[0;34m'containing '\u001b[0m \u001b[0;34m+\u001b[0m \u001b[0mstr\u001b[0m\u001b[0;34m(\u001b[0m\u001b[0mlen\u001b[0m\u001b[0;34m(\u001b[0m\u001b[0mlayer_names\u001b[0m\u001b[0;34m)\u001b[0m\u001b[0;34m)\u001b[0m \u001b[0;34m+\u001b[0m\u001b[0;34m\u001b[0m\u001b[0m\n\u001b[1;32m   3138\u001b[0m                          \u001b[0;34m' layers into a model with '\u001b[0m \u001b[0;34m+\u001b[0m\u001b[0;34m\u001b[0m\u001b[0m\n\u001b[0;32m-> 3139\u001b[0;31m                          str(len(filtered_layers)) + ' layers.')\n\u001b[0m\u001b[1;32m   3140\u001b[0m \u001b[0;34m\u001b[0m\u001b[0m\n\u001b[1;32m   3141\u001b[0m     \u001b[0;31m# We batch weight value assignments in a single backend call\u001b[0m\u001b[0;34m\u001b[0m\u001b[0;34m\u001b[0m\u001b[0m\n",
      "\u001b[0;31mValueError\u001b[0m: You are trying to load a weight file containing 10 layers into a model with 12 layers."
     ]
    }
   ],
   "source": [
    "print(type(model.model))\n",
    "model.model.model.summary()\n",
    "\n",
    "best_model = model.load_best_model(model.model,\"/Users/slouvan/sandbox/cross-domain/models/anago/ATIS_TRANSFER_LEARNING_RANDOM_TRASH\")"
   ]
  },
  {
   "cell_type": "code",
   "execution_count": 6,
   "metadata": {},
   "outputs": [
    {
     "name": "stdout",
     "output_type": "stream",
     "text": [
      "__________________________________________________________________________________________________\n",
      "Layer (type)                    Output Shape         Param #     Connected to                     \n",
      "==================================================================================================\n",
      "input_2 (InputLayer)            (None, None, None)   0                                            \n",
      "__________________________________________________________________________________________________\n",
      "embedding_2 (Embedding)         (None, None, None, 2 1275        input_2[0][0]                    \n",
      "__________________________________________________________________________________________________\n",
      "lambda_1 (Lambda)               (None, None, 25)     0           embedding_2[0][0]                \n",
      "__________________________________________________________________________________________________\n",
      "lstm_1 (LSTM)                   [(None, 25), (None,  5100        lambda_1[0][0]                   \n",
      "__________________________________________________________________________________________________\n",
      "lstm_2 (LSTM)                   [(None, 25), (None,  5100        lambda_1[0][0]                   \n",
      "__________________________________________________________________________________________________\n",
      "input_1 (InputLayer)            (None, None)         0                                            \n",
      "__________________________________________________________________________________________________\n",
      "concatenate_1 (Concatenate)     (None, 50)           0           lstm_1[0][1]                     \n",
      "                                                                 lstm_2[0][1]                     \n",
      "__________________________________________________________________________________________________\n",
      "embedding_1 (Embedding)         (None, None, 100)    1749500     input_1[0][0]                    \n",
      "__________________________________________________________________________________________________\n",
      "lambda_2 (Lambda)               (None, None, 50)     0           concatenate_1[0][0]              \n",
      "__________________________________________________________________________________________________\n",
      "concatenate_2 (Concatenate)     (None, None, 150)    0           embedding_1[0][0]                \n",
      "                                                                 lambda_2[0][0]                   \n",
      "__________________________________________________________________________________________________\n",
      "dropout_1 (Dropout)             (None, None, 150)    0           concatenate_2[0][0]              \n",
      "__________________________________________________________________________________________________\n",
      "bidirectional_1 (Bidirectional) (None, None, 200)    200800      dropout_1[0][0]                  \n",
      "__________________________________________________________________________________________________\n",
      "dense_1 (Dense)                 (None, None, 100)    20100       bidirectional_1[0][0]            \n",
      "__________________________________________________________________________________________________\n",
      "dense_2 (Dense)                 (None, None, 11)     1111        dense_1[0][0]                    \n",
      "==================================================================================================\n",
      "Total params: 1,982,986\n",
      "Trainable params: 1,982,986\n",
      "Non-trainable params: 0\n",
      "__________________________________________________________________________________________________\n"
     ]
    }
   ],
   "source": [
    "model.model.summary()"
   ]
  },
  {
   "cell_type": "code",
   "execution_count": 7,
   "metadata": {},
   "outputs": [
    {
     "data": {
      "text/plain": [
       "<keras.layers.core.Dense at 0x151f8b60d0>"
      ]
     },
     "execution_count": 7,
     "metadata": {},
     "output_type": "execute_result"
    }
   ],
   "source": [
    "model.model.layers.pop()\n",
    "model.model.layers.pop()"
   ]
  },
  {
   "cell_type": "code",
   "execution_count": 8,
   "metadata": {},
   "outputs": [
    {
     "name": "stdout",
     "output_type": "stream",
     "text": [
      "__________________________________________________________________________________________________\n",
      "Layer (type)                    Output Shape         Param #     Connected to                     \n",
      "==================================================================================================\n",
      "input_2 (InputLayer)            (None, None, None)   0                                            \n",
      "__________________________________________________________________________________________________\n",
      "embedding_2 (Embedding)         (None, None, None, 2 1275        input_2[0][0]                    \n",
      "__________________________________________________________________________________________________\n",
      "lambda_1 (Lambda)               (None, None, 25)     0           embedding_2[0][0]                \n",
      "__________________________________________________________________________________________________\n",
      "lstm_1 (LSTM)                   [(None, 25), (None,  5100        lambda_1[0][0]                   \n",
      "__________________________________________________________________________________________________\n",
      "lstm_2 (LSTM)                   [(None, 25), (None,  5100        lambda_1[0][0]                   \n",
      "__________________________________________________________________________________________________\n",
      "input_1 (InputLayer)            (None, None)         0                                            \n",
      "__________________________________________________________________________________________________\n",
      "concatenate_1 (Concatenate)     (None, 50)           0           lstm_1[0][1]                     \n",
      "                                                                 lstm_2[0][1]                     \n",
      "__________________________________________________________________________________________________\n",
      "embedding_1 (Embedding)         (None, None, 100)    1749500     input_1[0][0]                    \n",
      "__________________________________________________________________________________________________\n",
      "lambda_2 (Lambda)               (None, None, 50)     0           concatenate_1[0][0]              \n",
      "__________________________________________________________________________________________________\n",
      "concatenate_2 (Concatenate)     (None, None, 150)    0           embedding_1[0][0]                \n",
      "                                                                 lambda_2[0][0]                   \n",
      "__________________________________________________________________________________________________\n",
      "dropout_1 (Dropout)             (None, None, 150)    0           concatenate_2[0][0]              \n",
      "__________________________________________________________________________________________________\n",
      "bidirectional_1 (Bidirectional) (None, None, 200)    200800      dropout_1[0][0]                  \n",
      "==================================================================================================\n",
      "Total params: 1,961,775\n",
      "Trainable params: 1,961,775\n",
      "Non-trainable params: 0\n",
      "__________________________________________________________________________________________________\n"
     ]
    }
   ],
   "source": [
    "model.model.summary()"
   ]
  },
  {
   "cell_type": "code",
   "execution_count": null,
   "metadata": {
    "collapsed": true
   },
   "outputs": [],
   "source": [
    "x = Dense(config.num_word_lstm_units, activation='relu')(model.model.layers[-1].output)\n",
    "x = Dense(10)(x)\n",
    "model.model.crf = ChainCRF()\n",
    "pred = self.crf(x)\n",
    "\n",
    "model2 = Model(input=in_img, output=[o])\n",
    "model2.summary()"
   ]
  },
  {
   "cell_type": "code",
   "execution_count": null,
   "metadata": {
    "collapsed": true
   },
   "outputs": [],
   "source": []
  },
  {
   "cell_type": "code",
   "execution_count": null,
   "metadata": {
    "collapsed": true
   },
   "outputs": [],
   "source": []
  },
  {
   "cell_type": "code",
   "execution_count": 25,
   "metadata": {
    "collapsed": true
   },
   "outputs": [],
   "source": [
    "\n",
    "\n",
    "TRAIN_ATIS_PATH = \"/Users/slouvan/sandbox/cross-domain/data/atis-2.train.conll\"\n",
    "x_train_atis , _ = load_data_and_labels(\"/Users/slouvan/sandbox/cross-domain/data/atis-2.train.conll\")\n",
    "x_train_conll, _, = load_data_and_labels(\"/Users/slouvan/sandbox/anago/data/conll2003/en/ner/train.lower.txt\")\n",
    "x_dev_atis, _, = load_data_and_labels(\"/Users/slouvan/sandbox/cross-domain/data/atis-2.dev.conll\")\n"
   ]
  },
  {
   "cell_type": "code",
   "execution_count": 26,
   "metadata": {
    "collapsed": true
   },
   "outputs": [],
   "source": [
    "import itertools \n",
    "\n",
    "atis_word = set()\n",
    "conll_word = set()\n",
    "atis_dev_word = set()\n",
    "\n",
    "for x in itertools.chain(*x_train_atis):\n",
    "    atis_word.add(x)\n",
    "\n",
    "for x in itertools.chain(*x_train_conll):\n",
    "    conll_word.add(x)\n",
    "    \n",
    "for x in itertools.chain(*x_dev_atis):\n",
    "    atis_dev_word.add(x)"
   ]
  },
  {
   "cell_type": "code",
   "execution_count": 28,
   "metadata": {},
   "outputs": [
    {
     "data": {
      "text/plain": [
       "(869, 21010, 465)"
      ]
     },
     "execution_count": 28,
     "metadata": {},
     "output_type": "execute_result"
    }
   ],
   "source": [
    "len(atis_word), len(conll_word), len(atis_dev_word)"
   ]
  },
  {
   "cell_type": "code",
   "execution_count": 34,
   "metadata": {
    "collapsed": true
   },
   "outputs": [],
   "source": [
    "in_atis_not_in_conll = atis_word - conll_word"
   ]
  },
  {
   "cell_type": "code",
   "execution_count": 35,
   "metadata": {},
   "outputs": [
    {
     "data": {
      "text/plain": [
       "259"
      ]
     },
     "execution_count": 35,
     "metadata": {},
     "output_type": "execute_result"
    }
   ],
   "source": [
    "len(in_atis_not_in_conll)"
   ]
  },
  {
   "cell_type": "code",
   "execution_count": 38,
   "metadata": {},
   "outputs": [
    {
     "data": {
      "text/plain": [
       "0.29804372842347526"
      ]
     },
     "execution_count": 38,
     "metadata": {},
     "output_type": "execute_result"
    }
   ],
   "source": [
    "259.0/869"
   ]
  },
  {
   "cell_type": "code",
   "execution_count": 31,
   "metadata": {
    "collapsed": true
   },
   "outputs": [],
   "source": [
    "in_atis_dev_not_in_atis_train = atis_dev_word - atis_word"
   ]
  },
  {
   "cell_type": "code",
   "execution_count": 32,
   "metadata": {},
   "outputs": [
    {
     "data": {
      "text/plain": [
       "31"
      ]
     },
     "execution_count": 32,
     "metadata": {},
     "output_type": "execute_result"
    }
   ],
   "source": [
    "len(in_atis_dev_not_in_atis_train)"
   ]
  },
  {
   "cell_type": "code",
   "execution_count": null,
   "metadata": {
    "collapsed": true
   },
   "outputs": [],
   "source": []
  }
 ],
 "metadata": {
  "kernelspec": {
   "display_name": "Anago36",
   "language": "python",
   "name": "anago36"
  },
  "language_info": {
   "codemirror_mode": {
    "name": "ipython",
    "version": 2
   },
   "file_extension": ".py",
   "mimetype": "text/x-python",
   "name": "python",
   "nbconvert_exporter": "python",
   "pygments_lexer": "ipython2",
   "version": "2.7.15"
  }
 },
 "nbformat": 4,
 "nbformat_minor": 2
}
