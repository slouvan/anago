{
 "cells": [
  {
   "cell_type": "code",
   "execution_count": 20,
   "metadata": {},
   "outputs": [
    {
     "name": "stdout",
     "output_type": "stream",
     "text": [
      "The autoreload extension is already loaded. To reload it, use:\n",
      "  %reload_ext autoreload\n"
     ]
    }
   ],
   "source": [
    "import os\n",
    "import sys\n",
    "module_path = os.path.abspath(os.path.join('..'))\n",
    "if module_path not in sys.path:\n",
    "    sys.path.append(module_path)\n",
    "\n",
    "%load_ext autoreload\n",
    "%autoreload 2\n",
    "%reload_ext autoreload\n",
    "\n",
    "TRAINING_DATA_PATH=\"/Users/slouvan/sandbox/cross-domain/data/atis-2.train.conll\"\n",
    "DEV_DATA_PATH=\"/Users/slouvan/sandbox/cross-domain/data/atis-2.dev.conll\"\n",
    "TEST_DATA_PATH=\"/Users/slouvan/sandbox/cross-domain/data/atis.test.iob.conll\""
   ]
  },
  {
   "cell_type": "code",
   "execution_count": 21,
   "metadata": {},
   "outputs": [],
   "source": [
    "import anago.utils\n",
    "import anago\n",
    "from anago.reader import load_data_and_labels"
   ]
  },
  {
   "cell_type": "code",
   "execution_count": 22,
   "metadata": {},
   "outputs": [
    {
     "name": "stdout",
     "output_type": "stream",
     "text": [
      "PREPROCESSOR FILE : /Users/slouvan/sandbox/cross-domain/models/anago/CONLL_2003_BASE_MODEL_RANDOM/preprocessor.pkl\n",
      "THE VOCABULARY SIZE 1 IS 17495\n",
      "Hello\n",
      "Loading the best model from /Users/slouvan/sandbox/cross-domain/models/anago/CONLL_2003_BASE_MODEL_RANDOM/model_weights_07_88.72.h5 \n"
     ]
    }
   ],
   "source": [
    "model = anago.Sequence()\n",
    "model = model.load_best_model(\"/Users/slouvan/sandbox/cross-domain/models/anago/CONLL_2003_BASE_MODEL_RANDOM\")\n",
    "x_train , y_train = load_data_and_labels(TRAINING_DATA_PATH)\n",
    "x_valid   , y_valid   = load_data_and_labels(DEV_DATA_PATH)\n",
    "x_test  , y_test  = load_data_and_labels(TEST_DATA_PATH)\n",
    "\n"
   ]
  },
  {
   "cell_type": "code",
   "execution_count": 23,
   "metadata": {},
   "outputs": [
    {
     "name": "stdout",
     "output_type": "stream",
     "text": [
      "{'optimizer': 'adam', 'max_epoch': 2, 'clip_gradients': 5.0, 'batch_size': 20, 'lr_decay': 0.9, 'patience': 3, 'max_checkpoints_to_keep': 5, 'learning_rate': 0.001, 'early_stopping': 1, 'train_embeddings': 1}\n",
      "Chopping off the top one\n",
      "__________________________________________________________________________________________________\n",
      "Layer (type)                    Output Shape         Param #     Connected to                     \n",
      "==================================================================================================\n",
      "input_16 (InputLayer)           (None, None, None)   0                                            \n",
      "__________________________________________________________________________________________________\n",
      "embedding_16 (Embedding)        (None, None, None, 2 1275        input_16[0][0]                   \n",
      "__________________________________________________________________________________________________\n",
      "lambda_15 (Lambda)              (None, None, 25)     0           embedding_16[0][0]               \n",
      "__________________________________________________________________________________________________\n",
      "lstm_22 (LSTM)                  [(None, 25), (None,  5100        lambda_15[0][0]                  \n",
      "__________________________________________________________________________________________________\n",
      "lstm_23 (LSTM)                  [(None, 25), (None,  5100        lambda_15[0][0]                  \n",
      "__________________________________________________________________________________________________\n",
      "input_15 (InputLayer)           (None, None)         0                                            \n",
      "__________________________________________________________________________________________________\n",
      "concatenate_15 (Concatenate)    (None, 50)           0           lstm_22[0][1]                    \n",
      "                                                                 lstm_23[0][1]                    \n",
      "__________________________________________________________________________________________________\n",
      "embedding_15 (Embedding)        (None, None, 100)    1749500     input_15[0][0]                   \n",
      "__________________________________________________________________________________________________\n",
      "lambda_16 (Lambda)              (None, None, 50)     0           concatenate_15[0][0]             \n",
      "__________________________________________________________________________________________________\n",
      "concatenate_16 (Concatenate)    (None, None, 150)    0           embedding_15[0][0]               \n",
      "                                                                 lambda_16[0][0]                  \n",
      "__________________________________________________________________________________________________\n",
      "dropout_8 (Dropout)             (None, None, 150)    0           concatenate_16[0][0]             \n",
      "__________________________________________________________________________________________________\n",
      "bidirectional_8 (Bidirectional) (None, None, 200)    200800      dropout_8[0][0]                  \n",
      "==================================================================================================\n",
      "Total params: 1,961,775\n",
      "Trainable params: 1,961,775\n",
      "Non-trainable params: 0\n",
      "__________________________________________________________________________________________________\n",
      "None\n",
      "Modifying the top one\n",
      "122\n",
      "__________________________________________________________________________________________________\n",
      "Layer (type)                    Output Shape         Param #     Connected to                     \n",
      "==================================================================================================\n",
      "input_16 (InputLayer)           (None, None, None)   0                                            \n",
      "__________________________________________________________________________________________________\n",
      "embedding_16 (Embedding)        (None, None, None, 2 1275        input_16[0][0]                   \n",
      "__________________________________________________________________________________________________\n",
      "lambda_15 (Lambda)              (None, None, 25)     0           embedding_16[0][0]               \n",
      "__________________________________________________________________________________________________\n",
      "lstm_22 (LSTM)                  [(None, 25), (None,  5100        lambda_15[0][0]                  \n",
      "__________________________________________________________________________________________________\n",
      "lstm_23 (LSTM)                  [(None, 25), (None,  5100        lambda_15[0][0]                  \n",
      "__________________________________________________________________________________________________\n",
      "input_15 (InputLayer)           (None, None)         0                                            \n",
      "__________________________________________________________________________________________________\n",
      "concatenate_15 (Concatenate)    (None, 50)           0           lstm_22[0][1]                    \n",
      "                                                                 lstm_23[0][1]                    \n",
      "__________________________________________________________________________________________________\n",
      "embedding_15 (Embedding)        (None, None, 100)    1749500     input_15[0][0]                   \n",
      "__________________________________________________________________________________________________\n",
      "lambda_16 (Lambda)              (None, None, 50)     0           concatenate_15[0][0]             \n",
      "__________________________________________________________________________________________________\n",
      "concatenate_16 (Concatenate)    (None, None, 150)    0           embedding_15[0][0]               \n",
      "                                                                 lambda_16[0][0]                  \n",
      "__________________________________________________________________________________________________\n",
      "dropout_8 (Dropout)             (None, None, 150)    0           concatenate_16[0][0]             \n",
      "__________________________________________________________________________________________________\n",
      "bidirectional_8 (Bidirectional) (None, None, 200)    200800      dropout_8[0][0]                  \n",
      "__________________________________________________________________________________________________\n",
      "dense_19 (Dense)                (None, None, 100)    20100       bidirectional_8[0][0]            \n",
      "__________________________________________________________________________________________________\n",
      "dense_20 (Dense)                (None, None, 122)    12322       dense_19[0][0]                   \n",
      "__________________________________________________________________________________________________\n",
      "chain_crf_10 (ChainCRF)         (None, None, 122)    15128       dense_20[0][0]                   \n",
      "==================================================================================================\n",
      "Total params: 2,009,325\n",
      "Trainable params: 2,009,325\n",
      "Non-trainable params: 0\n",
      "__________________________________________________________________________________________________\n",
      "None\n",
      "LOG DIR : /Users/slouvan/sandbox/cross-domain/models/anago/ATIS_TRANSFER_LEARNING_RANDOM\n",
      "METRICS : ['loss']\n",
      "Checkpoint : /Users/slouvan/sandbox/cross-domain/models/anago/ATIS_TRANSFER_LEARNING_RANDOM\n",
      "Callback log dir /Users/slouvan/sandbox/cross-domain/models/anago/ATIS_TRANSFER_LEARNING_RANDOM\n",
      "Successfully made a directory: /Users/slouvan/sandbox/cross-domain/models/anago/ATIS_TRANSFER_LEARNING_RANDOM\n",
      "F1score is constructed\n",
      "Epoch 1/2\n",
      "223/224 [============================>.] - ETA: 0s - loss: 59.6301Evaluating\n",
      "Evaluating F1 score of 500 number of predictions \n",
      "foundPredCnt : 1655   correctChunkCnt : 1321   foundCorrect : 1710\n",
      " Evaluation - f1: 78.51\n",
      "224/224 [==============================] - 142s 635ms/step - loss: 59.5380\n",
      "Epoch 2/2\n",
      "223/224 [============================>.] - ETA: 0s - loss: 51.4550Evaluating\n",
      "Evaluating F1 score of 500 number of predictions \n",
      "foundPredCnt : 1707   correctChunkCnt : 1452   foundCorrect : 1710\n",
      " Evaluation - f1: 84.99\n",
      "224/224 [==============================] - 145s 649ms/step - loss: 51.3918\n",
      "{}\n",
      "['loss', 'f1']\n"
     ]
    }
   ],
   "source": [
    "model.update_training_config(\"/Users/slouvan/sandbox/anago/config/atis_transfer_learning.config\")\n",
    "model.re_train(x_train, y_train, x_valid, y_valid)"
   ]
  },
  {
   "cell_type": "code",
   "execution_count": 5,
   "metadata": {},
   "outputs": [
    {
     "data": {
      "text/plain": [
       "<anago.layers.ChainCRF at 0x1522c01ad0>"
      ]
     },
     "execution_count": 5,
     "metadata": {},
     "output_type": "execute_result"
    }
   ],
   "source": [
    "best_model = model.load_best_model()"
   ]
  },
  {
   "cell_type": "code",
   "execution_count": 6,
   "metadata": {},
   "outputs": [
    {
     "name": "stdout",
     "output_type": "stream",
     "text": [
      "__________________________________________________________________________________________________\n",
      "Layer (type)                    Output Shape         Param #     Connected to                     \n",
      "==================================================================================================\n",
      "input_2 (InputLayer)            (None, None, None)   0                                            \n",
      "__________________________________________________________________________________________________\n",
      "embedding_2 (Embedding)         (None, None, None, 2 1275        input_2[0][0]                    \n",
      "__________________________________________________________________________________________________\n",
      "lambda_1 (Lambda)               (None, None, 25)     0           embedding_2[0][0]                \n",
      "__________________________________________________________________________________________________\n",
      "lstm_1 (LSTM)                   [(None, 25), (None,  5100        lambda_1[0][0]                   \n",
      "__________________________________________________________________________________________________\n",
      "lstm_2 (LSTM)                   [(None, 25), (None,  5100        lambda_1[0][0]                   \n",
      "__________________________________________________________________________________________________\n",
      "input_1 (InputLayer)            (None, None)         0                                            \n",
      "__________________________________________________________________________________________________\n",
      "concatenate_1 (Concatenate)     (None, 50)           0           lstm_1[0][1]                     \n",
      "                                                                 lstm_2[0][1]                     \n",
      "__________________________________________________________________________________________________\n",
      "embedding_1 (Embedding)         (None, None, 100)    1749500     input_1[0][0]                    \n",
      "__________________________________________________________________________________________________\n",
      "lambda_2 (Lambda)               (None, None, 50)     0           concatenate_1[0][0]              \n",
      "__________________________________________________________________________________________________\n",
      "concatenate_2 (Concatenate)     (None, None, 150)    0           embedding_1[0][0]                \n",
      "                                                                 lambda_2[0][0]                   \n",
      "__________________________________________________________________________________________________\n",
      "dropout_1 (Dropout)             (None, None, 150)    0           concatenate_2[0][0]              \n",
      "__________________________________________________________________________________________________\n",
      "bidirectional_1 (Bidirectional) (None, None, 200)    200800      dropout_1[0][0]                  \n",
      "__________________________________________________________________________________________________\n",
      "dense_1 (Dense)                 (None, None, 100)    20100       bidirectional_1[0][0]            \n",
      "__________________________________________________________________________________________________\n",
      "dense_2 (Dense)                 (None, None, 11)     1111        dense_1[0][0]                    \n",
      "==================================================================================================\n",
      "Total params: 1,982,986\n",
      "Trainable params: 1,982,986\n",
      "Non-trainable params: 0\n",
      "__________________________________________________________________________________________________\n"
     ]
    }
   ],
   "source": [
    "model.model.summary()"
   ]
  },
  {
   "cell_type": "code",
   "execution_count": 7,
   "metadata": {},
   "outputs": [
    {
     "data": {
      "text/plain": [
       "<keras.layers.core.Dense at 0x151f8b60d0>"
      ]
     },
     "execution_count": 7,
     "metadata": {},
     "output_type": "execute_result"
    }
   ],
   "source": [
    "model.model.layers.pop()\n",
    "model.model.layers.pop()"
   ]
  },
  {
   "cell_type": "code",
   "execution_count": 8,
   "metadata": {},
   "outputs": [
    {
     "name": "stdout",
     "output_type": "stream",
     "text": [
      "__________________________________________________________________________________________________\n",
      "Layer (type)                    Output Shape         Param #     Connected to                     \n",
      "==================================================================================================\n",
      "input_2 (InputLayer)            (None, None, None)   0                                            \n",
      "__________________________________________________________________________________________________\n",
      "embedding_2 (Embedding)         (None, None, None, 2 1275        input_2[0][0]                    \n",
      "__________________________________________________________________________________________________\n",
      "lambda_1 (Lambda)               (None, None, 25)     0           embedding_2[0][0]                \n",
      "__________________________________________________________________________________________________\n",
      "lstm_1 (LSTM)                   [(None, 25), (None,  5100        lambda_1[0][0]                   \n",
      "__________________________________________________________________________________________________\n",
      "lstm_2 (LSTM)                   [(None, 25), (None,  5100        lambda_1[0][0]                   \n",
      "__________________________________________________________________________________________________\n",
      "input_1 (InputLayer)            (None, None)         0                                            \n",
      "__________________________________________________________________________________________________\n",
      "concatenate_1 (Concatenate)     (None, 50)           0           lstm_1[0][1]                     \n",
      "                                                                 lstm_2[0][1]                     \n",
      "__________________________________________________________________________________________________\n",
      "embedding_1 (Embedding)         (None, None, 100)    1749500     input_1[0][0]                    \n",
      "__________________________________________________________________________________________________\n",
      "lambda_2 (Lambda)               (None, None, 50)     0           concatenate_1[0][0]              \n",
      "__________________________________________________________________________________________________\n",
      "concatenate_2 (Concatenate)     (None, None, 150)    0           embedding_1[0][0]                \n",
      "                                                                 lambda_2[0][0]                   \n",
      "__________________________________________________________________________________________________\n",
      "dropout_1 (Dropout)             (None, None, 150)    0           concatenate_2[0][0]              \n",
      "__________________________________________________________________________________________________\n",
      "bidirectional_1 (Bidirectional) (None, None, 200)    200800      dropout_1[0][0]                  \n",
      "==================================================================================================\n",
      "Total params: 1,961,775\n",
      "Trainable params: 1,961,775\n",
      "Non-trainable params: 0\n",
      "__________________________________________________________________________________________________\n"
     ]
    }
   ],
   "source": [
    "model.model.summary()"
   ]
  },
  {
   "cell_type": "code",
   "execution_count": null,
   "metadata": {
    "collapsed": true
   },
   "outputs": [],
   "source": [
    "x = Dense(config.num_word_lstm_units, activation='relu')(model.model.layers[-1].output)\n",
    "x = Dense(10)(x)\n",
    "model.model.crf = ChainCRF()\n",
    "pred = self.crf(x)\n",
    "\n",
    "model2 = Model(input=in_img, output=[o])\n",
    "model2.summary()"
   ]
  },
  {
   "cell_type": "code",
   "execution_count": null,
   "metadata": {
    "collapsed": true
   },
   "outputs": [],
   "source": []
  },
  {
   "cell_type": "code",
   "execution_count": null,
   "metadata": {
    "collapsed": true
   },
   "outputs": [],
   "source": []
  },
  {
   "cell_type": "code",
   "execution_count": 25,
   "metadata": {},
   "outputs": [],
   "source": [
    "\n",
    "\n",
    "TRAIN_ATIS_PATH = \"/Users/slouvan/sandbox/cross-domain/data/atis-2.train.conll\"\n",
    "x_train_atis , _ = load_data_and_labels(\"/Users/slouvan/sandbox/cross-domain/data/atis-2.train.conll\")\n",
    "x_train_conll, _, = load_data_and_labels(\"/Users/slouvan/sandbox/anago/data/conll2003/en/ner/train.lower.txt\")\n",
    "x_dev_atis, _, = load_data_and_labels(\"/Users/slouvan/sandbox/cross-domain/data/atis-2.dev.conll\")\n"
   ]
  },
  {
   "cell_type": "code",
   "execution_count": 26,
   "metadata": {
    "collapsed": true
   },
   "outputs": [],
   "source": [
    "import itertools \n",
    "\n",
    "atis_word = set()\n",
    "conll_word = set()\n",
    "atis_dev_word = set()\n",
    "\n",
    "for x in itertools.chain(*x_train_atis):\n",
    "    atis_word.add(x)\n",
    "\n",
    "for x in itertools.chain(*x_train_conll):\n",
    "    conll_word.add(x)\n",
    "    \n",
    "for x in itertools.chain(*x_dev_atis):\n",
    "    atis_dev_word.add(x)"
   ]
  },
  {
   "cell_type": "code",
   "execution_count": 28,
   "metadata": {},
   "outputs": [
    {
     "data": {
      "text/plain": [
       "(869, 21010, 465)"
      ]
     },
     "execution_count": 28,
     "metadata": {},
     "output_type": "execute_result"
    }
   ],
   "source": [
    "len(atis_word), len(conll_word), len(atis_dev_word)"
   ]
  },
  {
   "cell_type": "code",
   "execution_count": 34,
   "metadata": {
    "collapsed": true
   },
   "outputs": [],
   "source": [
    "in_atis_not_in_conll = atis_word - conll_word"
   ]
  },
  {
   "cell_type": "code",
   "execution_count": 35,
   "metadata": {},
   "outputs": [
    {
     "data": {
      "text/plain": [
       "259"
      ]
     },
     "execution_count": 35,
     "metadata": {},
     "output_type": "execute_result"
    }
   ],
   "source": [
    "len(in_atis_not_in_conll)"
   ]
  },
  {
   "cell_type": "code",
   "execution_count": 38,
   "metadata": {},
   "outputs": [
    {
     "data": {
      "text/plain": [
       "0.29804372842347526"
      ]
     },
     "execution_count": 38,
     "metadata": {},
     "output_type": "execute_result"
    }
   ],
   "source": [
    "259.0/869"
   ]
  },
  {
   "cell_type": "code",
   "execution_count": 31,
   "metadata": {},
   "outputs": [],
   "source": [
    "in_atis_dev_not_in_atis_train = atis_dev_word - atis_word"
   ]
  },
  {
   "cell_type": "code",
   "execution_count": 32,
   "metadata": {},
   "outputs": [
    {
     "data": {
      "text/plain": [
       "31"
      ]
     },
     "execution_count": 32,
     "metadata": {},
     "output_type": "execute_result"
    }
   ],
   "source": [
    "len(in_atis_dev_not_in_atis_train)"
   ]
  },
  {
   "cell_type": "code",
   "execution_count": null,
   "metadata": {
    "collapsed": true
   },
   "outputs": [],
   "source": []
  }
 ],
 "metadata": {
  "kernelspec": {
   "display_name": "Anago36",
   "language": "python",
   "name": "anago36"
  },
  "language_info": {
   "codemirror_mode": {
    "name": "ipython",
    "version": 2
   },
   "file_extension": ".py",
   "mimetype": "text/x-python",
   "name": "python",
   "nbconvert_exporter": "python",
   "pygments_lexer": "ipython2",
   "version": "2.7.15"
  }
 },
 "nbformat": 4,
 "nbformat_minor": 2
}
