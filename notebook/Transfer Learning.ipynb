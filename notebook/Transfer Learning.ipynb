{
 "cells": [
  {
   "cell_type": "code",
   "execution_count": 61,
   "metadata": {},
   "outputs": [
    {
     "name": "stdout",
     "output_type": "stream",
     "text": [
      "The autoreload extension is already loaded. To reload it, use:\n",
      "  %reload_ext autoreload\n"
     ]
    }
   ],
   "source": [
    "import os\n",
    "import sys\n",
    "module_path = os.path.abspath(os.path.join('..'))\n",
    "if module_path not in sys.path:\n",
    "    sys.path.append(module_path)\n",
    "\n",
    "%load_ext autoreload\n",
    "%autoreload 2\n",
    "%reload_ext autoreload\n",
    "\n",
    "TRAINING_DATA_PATH=\"/Users/slouvan/sandbox/cross-domain/data/atis-2.train.conll\"\n",
    "DEV_DATA_PATH=\"/Users/slouvan/sandbox/cross-domain/data/atis-2.dev.conll\"\n",
    "TEST_DATA_PATH=\"/Users/slouvan/sandbox/cross-domain/data/atis.test.iob.conll\""
   ]
  },
  {
   "cell_type": "code",
   "execution_count": 62,
   "metadata": {},
   "outputs": [],
   "source": [
    "import anago.utils\n",
    "import anago\n",
    "from anago.reader import load_data_and_labels"
   ]
  },
  {
   "cell_type": "code",
   "execution_count": 63,
   "metadata": {},
   "outputs": [
    {
     "name": "stdout",
     "output_type": "stream",
     "text": [
      "PREPROCESSOR FILE : /Users/slouvan/sandbox/cross-domain/models/anago/CONLL_2003_BASE_MODEL_RANDOM/preprocessor.pkl\n",
      "Aloha\n",
      "THE VOCABULARY SIZE 1 IS 17495\n",
      "Hello\n",
      "Loading the best model from /Users/slouvan/sandbox/cross-domain/models/anago/CONLL_2003_BASE_MODEL_RANDOM/model_weights_11_88.15.h5 \n",
      "Model : <anago.models.SeqLabeling object at 0x1861fb0f10>\n",
      "__________________________________________________________________________________________________\n",
      "Layer (type)                    Output Shape         Param #     Connected to                     \n",
      "==================================================================================================\n",
      "input_30 (InputLayer)           (None, None, None)   0                                            \n",
      "__________________________________________________________________________________________________\n",
      "embedding_29 (Embedding)        (None, None, None, 2 1275        input_30[0][0]                   \n",
      "__________________________________________________________________________________________________\n",
      "lambda_27 (Lambda)              (None, None, 25)     0           embedding_29[0][0]               \n",
      "__________________________________________________________________________________________________\n",
      "lstm_40 (LSTM)                  [(None, 25), (None,  5100        lambda_27[0][0]                  \n",
      "__________________________________________________________________________________________________\n",
      "lstm_41 (LSTM)                  [(None, 25), (None,  5100        lambda_27[0][0]                  \n",
      "__________________________________________________________________________________________________\n",
      "input_29 (InputLayer)           (None, None)         0                                            \n",
      "__________________________________________________________________________________________________\n",
      "concatenate_27 (Concatenate)    (None, 50)           0           lstm_40[0][1]                    \n",
      "                                                                 lstm_41[0][1]                    \n",
      "__________________________________________________________________________________________________\n",
      "embedding_28 (Embedding)        (None, None, 100)    1749500     input_29[0][0]                   \n",
      "__________________________________________________________________________________________________\n",
      "lambda_28 (Lambda)              (None, None, 50)     0           concatenate_27[0][0]             \n",
      "__________________________________________________________________________________________________\n",
      "concatenate_28 (Concatenate)    (None, None, 150)    0           embedding_28[0][0]               \n",
      "                                                                 lambda_28[0][0]                  \n",
      "__________________________________________________________________________________________________\n",
      "dropout_14 (Dropout)            (None, None, 150)    0           concatenate_28[0][0]             \n",
      "__________________________________________________________________________________________________\n",
      "bidirectional_14 (Bidirectional (None, None, 200)    200800      dropout_14[0][0]                 \n",
      "__________________________________________________________________________________________________\n",
      "dense_49 (Dense)                (None, None, 100)    20100       bidirectional_14[0][0]           \n",
      "__________________________________________________________________________________________________\n",
      "dense_50 (Dense)                (None, None, 11)     1111        dense_49[0][0]                   \n",
      "__________________________________________________________________________________________________\n",
      "crf_25 (CRF)                    (None, None, 11)     275         dense_50[0][0]                   \n",
      "==================================================================================================\n",
      "Total params: 1,983,261\n",
      "Trainable params: 1,983,261\n",
      "Non-trainable params: 0\n",
      "__________________________________________________________________________________________________\n",
      "<type 'NoneType'>\n"
     ]
    }
   ],
   "source": [
    "model = anago.Sequence()\n",
    "model = model.load_best_model(\"/Users/slouvan/sandbox/cross-domain/models/anago/CONLL_2003_BASE_MODEL_RANDOM\")\n",
    "x_train , y_train = load_data_and_labels(TRAINING_DATA_PATH)\n",
    "x_valid   , y_valid   = load_data_and_labels(DEV_DATA_PATH)\n",
    "x_test  , y_test  = load_data_and_labels(TEST_DATA_PATH)\n",
    "\n",
    "print(type(model.model.model.summary()))"
   ]
  },
  {
   "cell_type": "code",
   "execution_count": 64,
   "metadata": {},
   "outputs": [
    {
     "name": "stdout",
     "output_type": "stream",
     "text": [
      "{'optimizer': 'adam', 'max_epoch': 1, 'clip_gradients': 5.0, 'batch_size': 20, 'lr_decay': 0.9, 'patience': 3, 'max_checkpoints_to_keep': 5, 'learning_rate': 0.001, 'early_stopping': 1, 'train_embeddings': 1}\n",
      "Number of labels : 98\n",
      "<class 'anago.models.SeqLabeling'>\n",
      "Chopping off the top one\n",
      "__________________________________________________________________________________________________\n",
      "Layer (type)                    Output Shape         Param #     Connected to                     \n",
      "==================================================================================================\n",
      "input_30 (InputLayer)           (None, None, None)   0                                            \n",
      "__________________________________________________________________________________________________\n",
      "embedding_29 (Embedding)        (None, None, None, 2 1275        input_30[0][0]                   \n",
      "__________________________________________________________________________________________________\n",
      "lambda_27 (Lambda)              (None, None, 25)     0           embedding_29[0][0]               \n",
      "__________________________________________________________________________________________________\n",
      "lstm_40 (LSTM)                  [(None, 25), (None,  5100        lambda_27[0][0]                  \n",
      "__________________________________________________________________________________________________\n",
      "lstm_41 (LSTM)                  [(None, 25), (None,  5100        lambda_27[0][0]                  \n",
      "__________________________________________________________________________________________________\n",
      "input_29 (InputLayer)           (None, None)         0                                            \n",
      "__________________________________________________________________________________________________\n",
      "concatenate_27 (Concatenate)    (None, 50)           0           lstm_40[0][1]                    \n",
      "                                                                 lstm_41[0][1]                    \n",
      "__________________________________________________________________________________________________\n",
      "embedding_28 (Embedding)        (None, None, 100)    1749500     input_29[0][0]                   \n",
      "__________________________________________________________________________________________________\n",
      "lambda_28 (Lambda)              (None, None, 50)     0           concatenate_27[0][0]             \n",
      "__________________________________________________________________________________________________\n",
      "concatenate_28 (Concatenate)    (None, None, 150)    0           embedding_28[0][0]               \n",
      "                                                                 lambda_28[0][0]                  \n",
      "__________________________________________________________________________________________________\n",
      "dropout_14 (Dropout)            (None, None, 150)    0           concatenate_28[0][0]             \n",
      "__________________________________________________________________________________________________\n",
      "bidirectional_14 (Bidirectional (None, None, 200)    200800      dropout_14[0][0]                 \n",
      "__________________________________________________________________________________________________\n",
      "dense_49 (Dense)                (None, None, 100)    20100       bidirectional_14[0][0]           \n",
      "__________________________________________________________________________________________________\n",
      "dense_50 (Dense)                (None, None, 11)     1111        dense_49[0][0]                   \n",
      "==================================================================================================\n",
      "Total params: 1,982,986\n",
      "Trainable params: 1,982,986\n",
      "Non-trainable params: 0\n",
      "__________________________________________________________________________________________________\n",
      "None\n",
      "Modifying the top one\n",
      "98\n",
      "__________________________________________________________________________________________________\n",
      "Layer (type)                    Output Shape         Param #     Connected to                     \n",
      "==================================================================================================\n",
      "input_30 (InputLayer)           (None, None, None)   0                                            \n",
      "__________________________________________________________________________________________________\n",
      "embedding_29 (Embedding)        (None, None, None, 2 1275        input_30[0][0]                   \n",
      "__________________________________________________________________________________________________\n",
      "lambda_27 (Lambda)              (None, None, 25)     0           embedding_29[0][0]               \n",
      "__________________________________________________________________________________________________\n",
      "lstm_40 (LSTM)                  [(None, 25), (None,  5100        lambda_27[0][0]                  \n",
      "__________________________________________________________________________________________________\n",
      "lstm_41 (LSTM)                  [(None, 25), (None,  5100        lambda_27[0][0]                  \n",
      "__________________________________________________________________________________________________\n",
      "input_29 (InputLayer)           (None, None)         0                                            \n",
      "__________________________________________________________________________________________________\n",
      "concatenate_27 (Concatenate)    (None, 50)           0           lstm_40[0][1]                    \n",
      "                                                                 lstm_41[0][1]                    \n",
      "__________________________________________________________________________________________________\n",
      "embedding_28 (Embedding)        (None, None, 100)    1749500     input_29[0][0]                   \n",
      "__________________________________________________________________________________________________\n",
      "lambda_28 (Lambda)              (None, None, 50)     0           concatenate_27[0][0]             \n",
      "__________________________________________________________________________________________________\n",
      "concatenate_28 (Concatenate)    (None, None, 150)    0           embedding_28[0][0]               \n",
      "                                                                 lambda_28[0][0]                  \n",
      "__________________________________________________________________________________________________\n",
      "dropout_14 (Dropout)            (None, None, 150)    0           concatenate_28[0][0]             \n",
      "__________________________________________________________________________________________________\n",
      "bidirectional_14 (Bidirectional (None, None, 200)    200800      dropout_14[0][0]                 \n",
      "__________________________________________________________________________________________________\n",
      "dense_49 (Dense)                (None, None, 100)    20100       bidirectional_14[0][0]           \n",
      "__________________________________________________________________________________________________\n",
      "dense_50 (Dense)                (None, None, 11)     1111        dense_49[0][0]                   \n",
      "__________________________________________________________________________________________________\n",
      "dense_51 (Dense)                (None, None, 198)    2376        dense_50[0][0]                   \n",
      "__________________________________________________________________________________________________\n",
      "dense_52 (Dense)                (None, None, 98)     19502       dense_51[0][0]                   \n",
      "__________________________________________________________________________________________________\n",
      "crf_26 (CRF)                    (None, None, 98)     19502       dense_52[0][0]                   \n",
      "==================================================================================================\n",
      "Total params: 2,024,366\n",
      "Trainable params: 2,024,366\n",
      "Non-trainable params: 0\n",
      "__________________________________________________________________________________________________\n",
      "None\n",
      "__________________________________________________________________________________________________\n",
      "Layer (type)                    Output Shape         Param #     Connected to                     \n",
      "==================================================================================================\n",
      "input_30 (InputLayer)           (None, None, None)   0                                            \n",
      "__________________________________________________________________________________________________\n",
      "embedding_29 (Embedding)        (None, None, None, 2 1275        input_30[0][0]                   \n",
      "__________________________________________________________________________________________________\n",
      "lambda_27 (Lambda)              (None, None, 25)     0           embedding_29[0][0]               \n",
      "__________________________________________________________________________________________________\n",
      "lstm_40 (LSTM)                  [(None, 25), (None,  5100        lambda_27[0][0]                  \n",
      "__________________________________________________________________________________________________\n",
      "lstm_41 (LSTM)                  [(None, 25), (None,  5100        lambda_27[0][0]                  \n",
      "__________________________________________________________________________________________________\n",
      "input_29 (InputLayer)           (None, None)         0                                            \n",
      "__________________________________________________________________________________________________\n",
      "concatenate_27 (Concatenate)    (None, 50)           0           lstm_40[0][1]                    \n",
      "                                                                 lstm_41[0][1]                    \n",
      "__________________________________________________________________________________________________\n",
      "embedding_28 (Embedding)        (None, None, 100)    1749500     input_29[0][0]                   \n",
      "__________________________________________________________________________________________________\n",
      "lambda_28 (Lambda)              (None, None, 50)     0           concatenate_27[0][0]             \n",
      "__________________________________________________________________________________________________\n",
      "concatenate_28 (Concatenate)    (None, None, 150)    0           embedding_28[0][0]               \n",
      "                                                                 lambda_28[0][0]                  \n",
      "__________________________________________________________________________________________________\n",
      "dropout_14 (Dropout)            (None, None, 150)    0           concatenate_28[0][0]             \n",
      "__________________________________________________________________________________________________\n",
      "bidirectional_14 (Bidirectional (None, None, 200)    200800      dropout_14[0][0]                 \n",
      "__________________________________________________________________________________________________\n",
      "dense_49 (Dense)                (None, None, 100)    20100       bidirectional_14[0][0]           \n",
      "__________________________________________________________________________________________________\n",
      "dense_50 (Dense)                (None, None, 11)     1111        dense_49[0][0]                   \n",
      "__________________________________________________________________________________________________\n",
      "dense_51 (Dense)                (None, None, 198)    2376        dense_50[0][0]                   \n",
      "__________________________________________________________________________________________________\n",
      "dense_52 (Dense)                (None, None, 98)     19502       dense_51[0][0]                   \n",
      "__________________________________________________________________________________________________\n",
      "crf_26 (CRF)                    (None, None, 98)     19502       dense_52[0][0]                   \n",
      "==================================================================================================\n",
      "Total params: 2,024,366\n",
      "Trainable params: 2,024,366\n",
      "Non-trainable params: 0\n",
      "__________________________________________________________________________________________________\n",
      "None\n",
      "LOG DIR : /Users/slouvan/sandbox/cross-domain/models/anago/ATIS_TRANSFER_LEARNING_RANDOM_TRASH\n",
      "METRICS : ['loss']\n",
      "Checkpoint : /Users/slouvan/sandbox/cross-domain/models/anago/ATIS_TRANSFER_LEARNING_RANDOM_TRASH\n",
      "Callback log dir /Users/slouvan/sandbox/cross-domain/models/anago/ATIS_TRANSFER_LEARNING_RANDOM_TRASH\n",
      "F1score is constructed\n",
      "Callback :  [<keras.callbacks.TensorBoard object at 0x1875443950>, <anago.metrics.F1score object at 0x1875463210>, <keras.callbacks.ModelCheckpoint object at 0x1875479750>, <keras.callbacks.EarlyStopping object at 0x18754796d0>]\n"
     ]
    },
    {
     "name": "stdout",
     "output_type": "stream",
     "text": [
      "Epoch 1/1\n",
      "49/50 [============================>.] - ETA: 0s - loss: 5.5575Evaluating\n",
      "Evaluating F1 score of 500 number of predictions \n",
      "foundPredCnt : 1132   correctChunkCnt : 783   foundCorrect : 1703\n",
      " Evaluation - f1: 55.24\n",
      "50/50 [==============================] - 24s 479ms/step - loss: 5.5658\n",
      "{}\n",
      "['loss', 'f1']\n"
     ]
    }
   ],
   "source": [
    "model.update_training_config(\"/Users/slouvan/sandbox/anago/config/atis_transfer_learning_tryout.config\")\n",
    "model.save_config(\"/Users/slouvan/sandbox/cross-domain/models/anago/ATIS_TRANSFER_LEARNING_RANDOM_TRASH\")\n",
    "model.re_train(x_train[:1000], y_train[:1000], x_valid, y_valid)"
   ]
  },
  {
   "cell_type": "code",
   "execution_count": 65,
   "metadata": {},
   "outputs": [
    {
     "name": "stdout",
     "output_type": "stream",
     "text": [
      "__________________________________________________________________________________________________\n",
      "Layer (type)                    Output Shape         Param #     Connected to                     \n",
      "==================================================================================================\n",
      "input_30 (InputLayer)           (None, None, None)   0                                            \n",
      "__________________________________________________________________________________________________\n",
      "embedding_29 (Embedding)        (None, None, None, 2 1275        input_30[0][0]                   \n",
      "__________________________________________________________________________________________________\n",
      "lambda_27 (Lambda)              (None, None, 25)     0           embedding_29[0][0]               \n",
      "__________________________________________________________________________________________________\n",
      "lstm_40 (LSTM)                  [(None, 25), (None,  5100        lambda_27[0][0]                  \n",
      "__________________________________________________________________________________________________\n",
      "lstm_41 (LSTM)                  [(None, 25), (None,  5100        lambda_27[0][0]                  \n",
      "__________________________________________________________________________________________________\n",
      "input_29 (InputLayer)           (None, None)         0                                            \n",
      "__________________________________________________________________________________________________\n",
      "concatenate_27 (Concatenate)    (None, 50)           0           lstm_40[0][1]                    \n",
      "                                                                 lstm_41[0][1]                    \n",
      "__________________________________________________________________________________________________\n",
      "embedding_28 (Embedding)        (None, None, 100)    1749500     input_29[0][0]                   \n",
      "__________________________________________________________________________________________________\n",
      "lambda_28 (Lambda)              (None, None, 50)     0           concatenate_27[0][0]             \n",
      "__________________________________________________________________________________________________\n",
      "concatenate_28 (Concatenate)    (None, None, 150)    0           embedding_28[0][0]               \n",
      "                                                                 lambda_28[0][0]                  \n",
      "__________________________________________________________________________________________________\n",
      "dropout_14 (Dropout)            (None, None, 150)    0           concatenate_28[0][0]             \n",
      "__________________________________________________________________________________________________\n",
      "bidirectional_14 (Bidirectional (None, None, 200)    200800      dropout_14[0][0]                 \n",
      "__________________________________________________________________________________________________\n",
      "dense_49 (Dense)                (None, None, 100)    20100       bidirectional_14[0][0]           \n",
      "__________________________________________________________________________________________________\n",
      "dense_50 (Dense)                (None, None, 11)     1111        dense_49[0][0]                   \n",
      "__________________________________________________________________________________________________\n",
      "dense_51 (Dense)                (None, None, 198)    2376        dense_50[0][0]                   \n",
      "__________________________________________________________________________________________________\n",
      "dense_52 (Dense)                (None, None, 98)     19502       dense_51[0][0]                   \n",
      "__________________________________________________________________________________________________\n",
      "crf_26 (CRF)                    (None, None, 98)     19502       dense_52[0][0]                   \n",
      "==================================================================================================\n",
      "Total params: 2,024,366\n",
      "Trainable params: 2,024,366\n",
      "Non-trainable params: 0\n",
      "__________________________________________________________________________________________________\n"
     ]
    }
   ],
   "source": [
    "model.model.model.summary()\n",
    "\n"
   ]
  },
  {
   "cell_type": "code",
   "execution_count": 66,
   "metadata": {},
   "outputs": [
    {
     "name": "stdout",
     "output_type": "stream",
     "text": [
      "<class 'anago.models.SeqLabeling'>\n",
      "PREPROCESSOR FILE : /Users/slouvan/sandbox/cross-domain/models/anago/ATIS_TRANSFER_LEARNING_RANDOM_TRASH/preprocessor.pkl\n",
      "Aloha\n",
      "Hello\n",
      "Loading the best model from /Users/slouvan/sandbox/cross-domain/models/anago/ATIS_TRANSFER_LEARNING_RANDOM_TRASH/model_weights_01_55.24.h5 \n",
      "Model : <anago.models.SeqLabeling object at 0x1861fb0f10>\n",
      "__________________________________________________________________________________________________\n",
      "Layer (type)                    Output Shape         Param #     Connected to                     \n",
      "==================================================================================================\n",
      "input_30 (InputLayer)           (None, None, None)   0                                            \n",
      "__________________________________________________________________________________________________\n",
      "embedding_29 (Embedding)        (None, None, None, 2 1275        input_30[0][0]                   \n",
      "__________________________________________________________________________________________________\n",
      "lambda_27 (Lambda)              (None, None, 25)     0           embedding_29[0][0]               \n",
      "__________________________________________________________________________________________________\n",
      "lstm_40 (LSTM)                  [(None, 25), (None,  5100        lambda_27[0][0]                  \n",
      "__________________________________________________________________________________________________\n",
      "lstm_41 (LSTM)                  [(None, 25), (None,  5100        lambda_27[0][0]                  \n",
      "__________________________________________________________________________________________________\n",
      "input_29 (InputLayer)           (None, None)         0                                            \n",
      "__________________________________________________________________________________________________\n",
      "concatenate_27 (Concatenate)    (None, 50)           0           lstm_40[0][1]                    \n",
      "                                                                 lstm_41[0][1]                    \n",
      "__________________________________________________________________________________________________\n",
      "embedding_28 (Embedding)        (None, None, 100)    1749500     input_29[0][0]                   \n",
      "__________________________________________________________________________________________________\n",
      "lambda_28 (Lambda)              (None, None, 50)     0           concatenate_27[0][0]             \n",
      "__________________________________________________________________________________________________\n",
      "concatenate_28 (Concatenate)    (None, None, 150)    0           embedding_28[0][0]               \n",
      "                                                                 lambda_28[0][0]                  \n",
      "__________________________________________________________________________________________________\n",
      "dropout_14 (Dropout)            (None, None, 150)    0           concatenate_28[0][0]             \n",
      "__________________________________________________________________________________________________\n",
      "bidirectional_14 (Bidirectional (None, None, 200)    200800      dropout_14[0][0]                 \n",
      "__________________________________________________________________________________________________\n",
      "dense_49 (Dense)                (None, None, 100)    20100       bidirectional_14[0][0]           \n",
      "__________________________________________________________________________________________________\n",
      "dense_50 (Dense)                (None, None, 11)     1111        dense_49[0][0]                   \n",
      "__________________________________________________________________________________________________\n",
      "dense_51 (Dense)                (None, None, 198)    2376        dense_50[0][0]                   \n",
      "__________________________________________________________________________________________________\n",
      "dense_52 (Dense)                (None, None, 98)     19502       dense_51[0][0]                   \n",
      "__________________________________________________________________________________________________\n",
      "crf_26 (CRF)                    (None, None, 98)     19502       dense_52[0][0]                   \n",
      "==================================================================================================\n",
      "Total params: 2,024,366\n",
      "Trainable params: 2,024,366\n",
      "Non-trainable params: 0\n",
      "__________________________________________________________________________________________________\n"
     ]
    }
   ],
   "source": [
    "print(type(model.model))\n",
    "best_model = model.load_best_model(\"/Users/slouvan/sandbox/cross-domain/models/anago/ATIS_TRANSFER_LEARNING_RANDOM_TRASH\", model.model)\n",
    "best_model.model.model.summary()"
   ]
  },
  {
   "cell_type": "code",
   "execution_count": 7,
   "metadata": {},
   "outputs": [
    {
     "data": {
      "text/plain": [
       "<keras.layers.core.Dense at 0x151f8b60d0>"
      ]
     },
     "execution_count": 7,
     "metadata": {},
     "output_type": "execute_result"
    }
   ],
   "source": [
    "model.model.layers.pop()\n",
    "model.model.layers.pop()"
   ]
  },
  {
   "cell_type": "code",
   "execution_count": 8,
   "metadata": {},
   "outputs": [
    {
     "name": "stdout",
     "output_type": "stream",
     "text": [
      "__________________________________________________________________________________________________\n",
      "Layer (type)                    Output Shape         Param #     Connected to                     \n",
      "==================================================================================================\n",
      "input_2 (InputLayer)            (None, None, None)   0                                            \n",
      "__________________________________________________________________________________________________\n",
      "embedding_2 (Embedding)         (None, None, None, 2 1275        input_2[0][0]                    \n",
      "__________________________________________________________________________________________________\n",
      "lambda_1 (Lambda)               (None, None, 25)     0           embedding_2[0][0]                \n",
      "__________________________________________________________________________________________________\n",
      "lstm_1 (LSTM)                   [(None, 25), (None,  5100        lambda_1[0][0]                   \n",
      "__________________________________________________________________________________________________\n",
      "lstm_2 (LSTM)                   [(None, 25), (None,  5100        lambda_1[0][0]                   \n",
      "__________________________________________________________________________________________________\n",
      "input_1 (InputLayer)            (None, None)         0                                            \n",
      "__________________________________________________________________________________________________\n",
      "concatenate_1 (Concatenate)     (None, 50)           0           lstm_1[0][1]                     \n",
      "                                                                 lstm_2[0][1]                     \n",
      "__________________________________________________________________________________________________\n",
      "embedding_1 (Embedding)         (None, None, 100)    1749500     input_1[0][0]                    \n",
      "__________________________________________________________________________________________________\n",
      "lambda_2 (Lambda)               (None, None, 50)     0           concatenate_1[0][0]              \n",
      "__________________________________________________________________________________________________\n",
      "concatenate_2 (Concatenate)     (None, None, 150)    0           embedding_1[0][0]                \n",
      "                                                                 lambda_2[0][0]                   \n",
      "__________________________________________________________________________________________________\n",
      "dropout_1 (Dropout)             (None, None, 150)    0           concatenate_2[0][0]              \n",
      "__________________________________________________________________________________________________\n",
      "bidirectional_1 (Bidirectional) (None, None, 200)    200800      dropout_1[0][0]                  \n",
      "==================================================================================================\n",
      "Total params: 1,961,775\n",
      "Trainable params: 1,961,775\n",
      "Non-trainable params: 0\n",
      "__________________________________________________________________________________________________\n"
     ]
    }
   ],
   "source": [
    "model.model.summary()"
   ]
  },
  {
   "cell_type": "code",
   "execution_count": null,
   "metadata": {
    "collapsed": true
   },
   "outputs": [],
   "source": [
    "x = Dense(config.num_word_lstm_units, activation='relu')(model.model.layers[-1].output)\n",
    "x = Dense(10)(x)\n",
    "model.model.crf = ChainCRF()\n",
    "pred = self.crf(x)\n",
    "\n",
    "model2 = Model(input=in_img, output=[o])\n",
    "model2.summary()"
   ]
  },
  {
   "cell_type": "code",
   "execution_count": null,
   "metadata": {
    "collapsed": true
   },
   "outputs": [],
   "source": []
  },
  {
   "cell_type": "code",
   "execution_count": null,
   "metadata": {
    "collapsed": true
   },
   "outputs": [],
   "source": []
  },
  {
   "cell_type": "code",
   "execution_count": 25,
   "metadata": {
    "collapsed": true
   },
   "outputs": [],
   "source": [
    "\n",
    "\n",
    "TRAIN_ATIS_PATH = \"/Users/slouvan/sandbox/cross-domain/data/atis-2.train.conll\"\n",
    "x_train_atis , _ = load_data_and_labels(\"/Users/slouvan/sandbox/cross-domain/data/atis-2.train.conll\")\n",
    "x_train_conll, _, = load_data_and_labels(\"/Users/slouvan/sandbox/anago/data/conll2003/en/ner/train.lower.txt\")\n",
    "x_dev_atis, _, = load_data_and_labels(\"/Users/slouvan/sandbox/cross-domain/data/atis-2.dev.conll\")\n"
   ]
  },
  {
   "cell_type": "code",
   "execution_count": 26,
   "metadata": {
    "collapsed": true
   },
   "outputs": [],
   "source": [
    "import itertools \n",
    "\n",
    "atis_word = set()\n",
    "conll_word = set()\n",
    "atis_dev_word = set()\n",
    "\n",
    "for x in itertools.chain(*x_train_atis):\n",
    "    atis_word.add(x)\n",
    "\n",
    "for x in itertools.chain(*x_train_conll):\n",
    "    conll_word.add(x)\n",
    "    \n",
    "for x in itertools.chain(*x_dev_atis):\n",
    "    atis_dev_word.add(x)"
   ]
  },
  {
   "cell_type": "code",
   "execution_count": 28,
   "metadata": {},
   "outputs": [
    {
     "data": {
      "text/plain": [
       "(869, 21010, 465)"
      ]
     },
     "execution_count": 28,
     "metadata": {},
     "output_type": "execute_result"
    }
   ],
   "source": [
    "len(atis_word), len(conll_word), len(atis_dev_word)"
   ]
  },
  {
   "cell_type": "code",
   "execution_count": 34,
   "metadata": {
    "collapsed": true
   },
   "outputs": [],
   "source": [
    "in_atis_not_in_conll = atis_word - conll_word"
   ]
  },
  {
   "cell_type": "code",
   "execution_count": 35,
   "metadata": {},
   "outputs": [
    {
     "data": {
      "text/plain": [
       "259"
      ]
     },
     "execution_count": 35,
     "metadata": {},
     "output_type": "execute_result"
    }
   ],
   "source": [
    "len(in_atis_not_in_conll)"
   ]
  },
  {
   "cell_type": "code",
   "execution_count": 38,
   "metadata": {},
   "outputs": [
    {
     "data": {
      "text/plain": [
       "0.29804372842347526"
      ]
     },
     "execution_count": 38,
     "metadata": {},
     "output_type": "execute_result"
    }
   ],
   "source": [
    "259.0/869"
   ]
  },
  {
   "cell_type": "code",
   "execution_count": 31,
   "metadata": {
    "collapsed": true
   },
   "outputs": [],
   "source": [
    "in_atis_dev_not_in_atis_train = atis_dev_word - atis_word"
   ]
  },
  {
   "cell_type": "code",
   "execution_count": 32,
   "metadata": {},
   "outputs": [
    {
     "data": {
      "text/plain": [
       "31"
      ]
     },
     "execution_count": 32,
     "metadata": {},
     "output_type": "execute_result"
    }
   ],
   "source": [
    "len(in_atis_dev_not_in_atis_train)"
   ]
  },
  {
   "cell_type": "code",
   "execution_count": null,
   "metadata": {
    "collapsed": true
   },
   "outputs": [],
   "source": []
  }
 ],
 "metadata": {
  "kernelspec": {
   "display_name": "Anago36",
   "language": "python",
   "name": "anago36"
  },
  "language_info": {
   "codemirror_mode": {
    "name": "ipython",
    "version": 2
   },
   "file_extension": ".py",
   "mimetype": "text/x-python",
   "name": "python",
   "nbconvert_exporter": "python",
   "pygments_lexer": "ipython2",
   "version": "2.7.15"
  }
 },
 "nbformat": 4,
 "nbformat_minor": 2
}
