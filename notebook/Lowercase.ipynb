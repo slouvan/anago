{
 "cells": [
  {
   "cell_type": "code",
   "execution_count": 9,
   "metadata": {
    "collapsed": true
   },
   "outputs": [],
   "source": [
    "TRAINING_DATA_PATH = \"/Users/slouvan/sandbox/anago/data/conll2003/en/ner/train.txt\"\n",
    "DEV_DATA_PATH = \"/Users/slouvan/sandbox/anago/data/conll2003/en/ner/valid.txt\"\n",
    "TEST_DATA_PATH = \"/Users/slouvan/sandbox/anago/data/conll2003/en/ner/test.txt\""
   ]
  },
  {
   "cell_type": "code",
   "execution_count": 11,
   "metadata": {},
   "outputs": [],
   "source": [
    "with open(TEST_DATA_PATH) as f:\n",
    "    with open(\"/Users/slouvan/sandbox/anago/data/conll2003/en/ner/test.lower.txt\",\"w\") as g:\n",
    "        for line in f:\n",
    "            #print(len(line.split(\"\\t\")))\n",
    "            if len(line.split(\"\\t\")) > 1:\n",
    "                fields = line.split(\"\\t\")\n",
    "                #print(fields[0].lower()+\"\\t\"+fields[1])\n",
    "                g.write(fields[0].lower()+\"\\t\"+fields[1])\n",
    "            else:\n",
    "                g.write(line)\n",
    "        "
   ]
  },
  {
   "cell_type": "code",
   "execution_count": null,
   "metadata": {
    "collapsed": true
   },
   "outputs": [],
   "source": []
  }
 ],
 "metadata": {
  "kernelspec": {
   "display_name": "ANAGO",
   "language": "python",
   "name": "anago"
  },
  "language_info": {
   "codemirror_mode": {
    "name": "ipython",
    "version": 3
   },
   "file_extension": ".py",
   "mimetype": "text/x-python",
   "name": "python",
   "nbconvert_exporter": "python",
   "pygments_lexer": "ipython3",
   "version": "3.6.5"
  }
 },
 "nbformat": 4,
 "nbformat_minor": 2
}
